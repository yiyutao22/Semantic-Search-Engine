{
 "cells": [
  {
   "cell_type": "markdown",
   "metadata": {},
   "source": [
    "1) You previously created an inverted index of terms and pages; this time, create a dictionary that contains an inverted index from the values contained in web_graph_small.txt. Assume the number in the first column is linking to the second. \n",
    "\n",
    "You can set either the first number as the key and all nodes it links to as a list of values, or the other way around -- just be sure you note explicitly which it is in comments to keep track.  In fact, some people find it easier for calculation to make two inverted indexes (one for nodes:outlinks, one for nodes:inlinks, but you do you)."
   ]
  },
  {
   "cell_type": "code",
   "execution_count": 1,
   "metadata": {},
   "outputs": [],
   "source": [
    "from nltk import flatten"
   ]
  },
  {
   "cell_type": "code",
   "execution_count": 2,
   "metadata": {},
   "outputs": [],
   "source": [
    "import sys\n",
    "from random import randrange\n",
    "sys.setrecursionlimit(randrange(2500, 3000))"
   ]
  },
  {
   "cell_type": "code",
   "execution_count": 3,
   "metadata": {},
   "outputs": [],
   "source": [
    "with open ('web_graph_small.txt','r') as file:\n",
    "    content = [line.strip().split('\\t') for line in file.readlines()]"
   ]
  },
  {
   "cell_type": "code",
   "execution_count": 4,
   "metadata": {
    "scrolled": true
   },
   "outputs": [
    {
     "data": {
      "text/plain": [
       "{'0': ['3', '2', '4', '5'],\n",
       " '3': ['0',\n",
       "  '7',\n",
       "  '8',\n",
       "  '9',\n",
       "  '10',\n",
       "  '11',\n",
       "  '13',\n",
       "  '14',\n",
       "  '15',\n",
       "  '16',\n",
       "  '17',\n",
       "  '18',\n",
       "  '4',\n",
       "  '5'],\n",
       " '2': ['0', '19', '10', '11', '12', '20', '21', '22', '23', '4', '5'],\n",
       " '4': ['0', '3', '24', '25', '21', '26', '17', '5'],\n",
       " '5': ['0', '3', '27', '28', '29', '12', '4'],\n",
       " '1': ['30', '6', '31', '32', '33', '34', '35', '36', '37', '38'],\n",
       " '6': ['1', '30', '39', '40', '41', '31', '42', '32', '33', '34', '35', '36']}"
      ]
     },
     "execution_count": 4,
     "metadata": {},
     "output_type": "execute_result"
    }
   ],
   "source": [
    "out_degree = {}\n",
    "for (key, value) in content:\n",
    "    out_degree.setdefault(key, []).append(value)\n",
    "out_degree"
   ]
  },
  {
   "cell_type": "code",
   "execution_count": 5,
   "metadata": {
    "scrolled": true
   },
   "outputs": [
    {
     "data": {
      "text/plain": [
       "{'3': ['0', '4', '5'],\n",
       " '2': ['0'],\n",
       " '4': ['0', '3', '2', '5'],\n",
       " '5': ['0', '3', '2', '4'],\n",
       " '0': ['3', '2', '4', '5'],\n",
       " '7': ['3'],\n",
       " '8': ['3'],\n",
       " '9': ['3'],\n",
       " '10': ['3', '2'],\n",
       " '11': ['3', '2'],\n",
       " '13': ['3'],\n",
       " '14': ['3'],\n",
       " '15': ['3'],\n",
       " '16': ['3'],\n",
       " '17': ['3', '4'],\n",
       " '18': ['3'],\n",
       " '19': ['2'],\n",
       " '12': ['2', '5'],\n",
       " '20': ['2'],\n",
       " '21': ['2', '4'],\n",
       " '22': ['2'],\n",
       " '23': ['2'],\n",
       " '24': ['4'],\n",
       " '25': ['4'],\n",
       " '26': ['4'],\n",
       " '27': ['5'],\n",
       " '28': ['5'],\n",
       " '29': ['5'],\n",
       " '30': ['1', '6'],\n",
       " '6': ['1'],\n",
       " '31': ['1', '6'],\n",
       " '32': ['1', '6'],\n",
       " '33': ['1', '6'],\n",
       " '34': ['1', '6'],\n",
       " '35': ['1', '6'],\n",
       " '36': ['1', '6'],\n",
       " '37': ['1'],\n",
       " '38': ['1'],\n",
       " '1': ['6'],\n",
       " '39': ['6'],\n",
       " '40': ['6'],\n",
       " '41': ['6'],\n",
       " '42': ['6']}"
      ]
     },
     "execution_count": 5,
     "metadata": {},
     "output_type": "execute_result"
    }
   ],
   "source": [
    "in_degree = {}\n",
    "for (key, value) in content:\n",
    "    in_degree.setdefault(value, []).append(key)\n",
    "in_degree"
   ]
  },
  {
   "cell_type": "markdown",
   "metadata": {},
   "source": [
    "\n",
    "2) Using this (or these) inverted index/indices of links, create a function that calculates a dictionary, with node numbers as keys and rank weights as values:\n",
    "\n",
    "a) initially, all nodes should have the same weight: 1/n, where n is the number of nodes."
   ]
  },
  {
   "cell_type": "code",
   "execution_count": 6,
   "metadata": {},
   "outputs": [],
   "source": [
    "rank = {}"
   ]
  },
  {
   "cell_type": "code",
   "execution_count": 7,
   "metadata": {},
   "outputs": [],
   "source": [
    "def pagerank(out_degree, in_degree):\n",
    "    node = set(flatten(content))\n",
    "    n = len(node)\n",
    "    for each in node:\n",
    "        rank[each] = 1/n\n",
    "    #rank = dict.fromkeys(node, 1/n) \n",
    "    return rank"
   ]
  },
  {
   "cell_type": "code",
   "execution_count": 8,
   "metadata": {},
   "outputs": [
    {
     "data": {
      "text/plain": [
       "{'0': 0.023255813953488372,\n",
       " '26': 0.023255813953488372,\n",
       " '22': 0.023255813953488372,\n",
       " '20': 0.023255813953488372,\n",
       " '11': 0.023255813953488372,\n",
       " '38': 0.023255813953488372,\n",
       " '39': 0.023255813953488372,\n",
       " '15': 0.023255813953488372,\n",
       " '25': 0.023255813953488372,\n",
       " '5': 0.023255813953488372,\n",
       " '36': 0.023255813953488372,\n",
       " '28': 0.023255813953488372,\n",
       " '18': 0.023255813953488372,\n",
       " '29': 0.023255813953488372,\n",
       " '10': 0.023255813953488372,\n",
       " '21': 0.023255813953488372,\n",
       " '33': 0.023255813953488372,\n",
       " '4': 0.023255813953488372,\n",
       " '17': 0.023255813953488372,\n",
       " '24': 0.023255813953488372,\n",
       " '42': 0.023255813953488372,\n",
       " '12': 0.023255813953488372,\n",
       " '3': 0.023255813953488372,\n",
       " '2': 0.023255813953488372,\n",
       " '30': 0.023255813953488372,\n",
       " '6': 0.023255813953488372,\n",
       " '31': 0.023255813953488372,\n",
       " '7': 0.023255813953488372,\n",
       " '40': 0.023255813953488372,\n",
       " '35': 0.023255813953488372,\n",
       " '13': 0.023255813953488372,\n",
       " '8': 0.023255813953488372,\n",
       " '1': 0.023255813953488372,\n",
       " '9': 0.023255813953488372,\n",
       " '37': 0.023255813953488372,\n",
       " '34': 0.023255813953488372,\n",
       " '16': 0.023255813953488372,\n",
       " '14': 0.023255813953488372,\n",
       " '23': 0.023255813953488372,\n",
       " '41': 0.023255813953488372,\n",
       " '27': 0.023255813953488372,\n",
       " '32': 0.023255813953488372,\n",
       " '19': 0.023255813953488372}"
      ]
     },
     "execution_count": 8,
     "metadata": {},
     "output_type": "execute_result"
    }
   ],
   "source": [
    "rank = pagerank(out_degree, in_degree)\n",
    "rank"
   ]
  },
  {
   "cell_type": "markdown",
   "metadata": {},
   "source": [
    "b) Code one cycle of rank value updates, using a value for p (the probability that a user will go directly to a node rather than following a link to it) of 0.2."
   ]
  },
  {
   "cell_type": "markdown",
   "metadata": {},
   "source": [
    "c) Once you have one cycle of rank updates working, alter your function so that it calls itself, feeding the output of one cycle into the next cycle as input, until the rank vector of a cycle is the same as the ranks from the previous cycle. Build in a trace so you can track the number of cycles. How many did it take?"
   ]
  },
  {
   "cell_type": "code",
   "execution_count": 9,
   "metadata": {},
   "outputs": [],
   "source": [
    "counter = 0"
   ]
  },
  {
   "cell_type": "code",
   "execution_count": 10,
   "metadata": {},
   "outputs": [],
   "source": [
    "def pagerank(out_degree, in_degree, rank, p):\n",
    "    global counter\n",
    "    node = set(flatten(content))\n",
    "    n = len(node)\n",
    "    \n",
    "    check = rank.copy()\n",
    "    counter += 1\n",
    "    \n",
    "    out_amount = {}\n",
    "    for key, value in out_degree.items():\n",
    "        out_amount[key] = len(value)\n",
    "       \n",
    "    in_amount = {}\n",
    "    for k, value in in_degree.items():\n",
    "        for each in value:\n",
    "            in_amount.setdefault(k, []).append(float(str(rank.get(each)))/int(out_amount.get(each)))\n",
    "    in_amount = {k: sum(map(float, (i for i in v))) for k, v in in_amount.items()}\n",
    "    for each in rank.keys():\n",
    "        if each in in_amount.keys():\n",
    "            rank[each] = p/n + (1-p) * (in_amount[each])\n",
    "        else:\n",
    "            rank[each] = p/n + (1-p) * 0\n",
    "    for key in rank.keys():\n",
    "        rank[key] = round(rank[key],7)      \n",
    "    \n",
    "    if check != rank:\n",
    "        print('rank is',rank)\n",
    "        print('check is',check)\n",
    "        print('number of cycle:', counter)\n",
    "        rank = pagerank(out_degree, in_degree, rank, p)\n",
    "    else:\n",
    "        return rank, counter\n",
    "    "
   ]
  },
  {
   "cell_type": "code",
   "execution_count": 11,
   "metadata": {
    "scrolled": false
   },
   "outputs": [
    {
     "name": "stdout",
     "output_type": "stream",
     "text": [
      "rank is {'0': 0.01, '26': 0.01, '22': 0.01, '20': 0.01, '11': 0.01, '38': 0.01, '39': 0.01, '15': 0.01, '25': 0.01, '5': 0.01, '36': 0.01, '28': 0.01, '18': 0.01, '29': 0.01, '10': 0.01, '21': 0.01, '33': 0.01, '4': 0.01, '17': 0.01, '24': 0.01, '42': 0.01, '12': 0.01, '3': 0.01, '2': 0.01, '30': 0.01, '6': 0.01, '31': 0.01, '7': 0.01, '40': 0.01, '35': 0.01, '13': 0.01, '8': 0.01, '1': 0.01, '9': 0.01, '37': 0.01, '34': 0.01, '16': 0.01, '14': 0.01, '23': 0.01, '41': 0.01, '27': 0.01, '32': 0.01, '19': 0.01}\n",
      "check is {'0': 0.023255813953488372, '26': 0.023255813953488372, '22': 0.023255813953488372, '20': 0.023255813953488372, '11': 0.023255813953488372, '38': 0.023255813953488372, '39': 0.023255813953488372, '15': 0.023255813953488372, '25': 0.023255813953488372, '5': 0.023255813953488372, '36': 0.023255813953488372, '28': 0.023255813953488372, '18': 0.023255813953488372, '29': 0.023255813953488372, '10': 0.023255813953488372, '21': 0.023255813953488372, '33': 0.023255813953488372, '4': 0.023255813953488372, '17': 0.023255813953488372, '24': 0.023255813953488372, '42': 0.023255813953488372, '12': 0.023255813953488372, '3': 0.023255813953488372, '2': 0.023255813953488372, '30': 0.023255813953488372, '6': 0.023255813953488372, '31': 0.023255813953488372, '7': 0.023255813953488372, '40': 0.023255813953488372, '35': 0.023255813953488372, '13': 0.023255813953488372, '8': 0.023255813953488372, '1': 0.023255813953488372, '9': 0.023255813953488372, '37': 0.023255813953488372, '34': 0.023255813953488372, '16': 0.023255813953488372, '14': 0.023255813953488372, '23': 0.023255813953488372, '41': 0.023255813953488372, '27': 0.023255813953488372, '32': 0.023255813953488372, '19': 0.023255813953488372}\n",
      "number of cycle: 1\n"
     ]
    }
   ],
   "source": [
    "rank = pagerank(out_degree, in_degree, rank, .2)\n",
    "rank"
   ]
  },
  {
   "cell_type": "markdown",
   "metadata": {},
   "source": [
    "\n",
    "\n",
    "d) Adjust the value of p to 0.05, and run again. Does the number of cycles change?"
   ]
  },
  {
   "cell_type": "code",
   "execution_count": 17,
   "metadata": {
    "scrolled": true
   },
   "outputs": [
    {
     "name": "stdout",
     "output_type": "stream",
     "text": [
      "rank is {'2': 0.13, '3': 0.61, '1': 0.25, '4': 0.01}\n",
      "check is {'2': 0.25, '3': 0.25, '1': 0.25, '4': 0.25}\n",
      "number of cycle: 1\n",
      "rank is {'2': 0.13, '3': 0.26, '1': 0.59, '4': 0.01}\n",
      "check is {'2': 0.13, '3': 0.61, '1': 0.25, '4': 0.01}\n",
      "number of cycle: 2\n",
      "rank is {'2': 0.29, '3': 0.43, '1': 0.26, '4': 0.01}\n",
      "check is {'2': 0.13, '3': 0.26, '1': 0.59, '4': 0.01}\n",
      "number of cycle: 3\n",
      "rank is {'2': 0.14, '3': 0.42, '1': 0.42, '4': 0.01}\n",
      "check is {'2': 0.29, '3': 0.43, '1': 0.26, '4': 0.01}\n",
      "number of cycle: 4\n",
      "rank is {'2': 0.21, '3': 0.35, '1': 0.41, '4': 0.01}\n",
      "check is {'2': 0.14, '3': 0.42, '1': 0.42, '4': 0.01}\n",
      "number of cycle: 5\n",
      "rank is {'2': 0.21, '3': 0.42, '1': 0.34, '4': 0.01}\n",
      "check is {'2': 0.21, '3': 0.35, '1': 0.41, '4': 0.01}\n",
      "number of cycle: 6\n",
      "rank is {'2': 0.17, '3': 0.38, '1': 0.41, '4': 0.01}\n",
      "check is {'2': 0.21, '3': 0.42, '1': 0.34, '4': 0.01}\n",
      "number of cycle: 7\n",
      "rank is {'2': 0.21, '3': 0.38, '1': 0.37, '4': 0.01}\n",
      "check is {'2': 0.17, '3': 0.38, '1': 0.41, '4': 0.01}\n",
      "number of cycle: 8\n",
      "rank is {'2': 0.19, '3': 0.4, '1': 0.37, '4': 0.01}\n",
      "check is {'2': 0.21, '3': 0.38, '1': 0.37, '4': 0.01}\n",
      "number of cycle: 9\n",
      "rank is {'2': 0.19, '3': 0.38, '1': 0.39, '4': 0.01}\n",
      "check is {'2': 0.19, '3': 0.4, '1': 0.37, '4': 0.01}\n",
      "number of cycle: 10\n",
      "rank is {'2': 0.2, '3': 0.39, '1': 0.37, '4': 0.01}\n",
      "check is {'2': 0.19, '3': 0.38, '1': 0.39, '4': 0.01}\n",
      "number of cycle: 11\n",
      "rank is {'2': 0.19, '3': 0.39, '1': 0.38, '4': 0.01}\n",
      "check is {'2': 0.2, '3': 0.39, '1': 0.37, '4': 0.01}\n",
      "number of cycle: 12\n",
      "rank is {'2': 0.19, '3': 0.38, '1': 0.38, '4': 0.01}\n",
      "check is {'2': 0.19, '3': 0.39, '1': 0.38, '4': 0.01}\n",
      "number of cycle: 13\n",
      "rank is {'2': 0.19, '3': 0.38, '1': 0.37, '4': 0.01}\n",
      "check is {'2': 0.19, '3': 0.38, '1': 0.38, '4': 0.01}\n",
      "number of cycle: 14\n"
     ]
    }
   ],
   "source": [
    "second_rank = pagerank(out_degree, in_degree, rank, .05)\n",
    "second_rank"
   ]
  },
  {
   "cell_type": "code",
   "execution_count": null,
   "metadata": {},
   "outputs": [],
   "source": []
  }
 ],
 "metadata": {
  "kernelspec": {
   "display_name": "Python 3",
   "language": "python",
   "name": "python3"
  },
  "language_info": {
   "codemirror_mode": {
    "name": "ipython",
    "version": 3
   },
   "file_extension": ".py",
   "mimetype": "text/x-python",
   "name": "python",
   "nbconvert_exporter": "python",
   "pygments_lexer": "ipython3",
   "version": "3.7.1"
  }
 },
 "nbformat": 4,
 "nbformat_minor": 4
}
