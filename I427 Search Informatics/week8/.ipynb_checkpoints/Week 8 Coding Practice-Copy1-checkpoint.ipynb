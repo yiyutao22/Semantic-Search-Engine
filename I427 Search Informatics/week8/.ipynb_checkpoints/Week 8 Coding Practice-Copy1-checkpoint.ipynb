{
 "cells": [
  {
   "cell_type": "markdown",
   "metadata": {},
   "source": [
    "1) You previously created an inverted index of terms and pages; this time, create a dictionary that contains an inverted index from the values contained in web_graph_small.txt. Assume the number in the first column is linking to the second. \n",
    "\n",
    "You can set either the first number as the key and all nodes it links to as a list of values, or the other way around -- just be sure you note explicitly which it is in comments to keep track.  In fact, some people find it easier for calculation to make two inverted indexes (one for nodes:outlinks, one for nodes:inlinks, but you do you)."
   ]
  },
  {
   "cell_type": "code",
   "execution_count": 1,
   "metadata": {},
   "outputs": [],
   "source": [
    "from nltk import flatten"
   ]
  },
  {
   "cell_type": "code",
   "execution_count": 2,
   "metadata": {},
   "outputs": [],
   "source": [
    "import sys\n",
    "from random import randrange\n",
    "sys.setrecursionlimit(randrange(2500, 3000))"
   ]
  },
  {
   "cell_type": "code",
   "execution_count": 3,
   "metadata": {},
   "outputs": [],
   "source": [
    "with open ('small.txt','r') as file:\n",
    "    content = [line.strip().split('\\t') for line in file.readlines()]"
   ]
  },
  {
   "cell_type": "code",
   "execution_count": 4,
   "metadata": {
    "scrolled": true
   },
   "outputs": [
    {
     "data": {
      "text/plain": [
       "{'1': ['3', '2'], '2': ['3'], '4': ['3'], '3': ['1']}"
      ]
     },
     "execution_count": 4,
     "metadata": {},
     "output_type": "execute_result"
    }
   ],
   "source": [
    "out_degree = {}\n",
    "for (key, value) in content:\n",
    "    out_degree.setdefault(key, []).append(value)\n",
    "out_degree"
   ]
  },
  {
   "cell_type": "code",
   "execution_count": 5,
   "metadata": {
    "scrolled": true
   },
   "outputs": [
    {
     "data": {
      "text/plain": [
       "{'3': ['1', '2', '4'], '2': ['1'], '1': ['3']}"
      ]
     },
     "execution_count": 5,
     "metadata": {},
     "output_type": "execute_result"
    }
   ],
   "source": [
    "in_degree = {}\n",
    "for (key, value) in content:\n",
    "    in_degree.setdefault(value, []).append(key)\n",
    "in_degree"
   ]
  },
  {
   "cell_type": "markdown",
   "metadata": {},
   "source": [
    "\n",
    "2) Using this (or these) inverted index/indices of links, create a function that calculates a dictionary, with node numbers as keys and rank weights as values:\n",
    "\n",
    "a) initially, all nodes should have the same weight: 1/n, where n is the number of nodes."
   ]
  },
  {
   "cell_type": "code",
   "execution_count": 12,
   "metadata": {},
   "outputs": [],
   "source": [
    "rank = {}"
   ]
  },
  {
   "cell_type": "code",
   "execution_count": 13,
   "metadata": {},
   "outputs": [],
   "source": [
    "def pagerank(out_degree, in_degree):\n",
    "    node = set(flatten(content))\n",
    "    n = len(node)\n",
    "    for each in node:\n",
    "        rank[each] = 1/n\n",
    "    #rank = dict.fromkeys(node, 1/n) \n",
    "    return rank"
   ]
  },
  {
   "cell_type": "code",
   "execution_count": 14,
   "metadata": {},
   "outputs": [
    {
     "data": {
      "text/plain": [
       "{'2': 0.25, '3': 0.25, '1': 0.25, '4': 0.25}"
      ]
     },
     "execution_count": 14,
     "metadata": {},
     "output_type": "execute_result"
    }
   ],
   "source": [
    "rank = pagerank(out_degree, in_degree)\n",
    "rank"
   ]
  },
  {
   "cell_type": "markdown",
   "metadata": {},
   "source": [
    "b) Code one cycle of rank value updates, using a value for p (the probability that a user will go directly to a node rather than following a link to it) of 0.2."
   ]
  },
  {
   "cell_type": "markdown",
   "metadata": {},
   "source": [
    "c) Once you have one cycle of rank updates working, alter your function so that it calls itself, feeding the output of one cycle into the next cycle as input, until the rank vector of a cycle is the same as the ranks from the previous cycle. Build in a trace so you can track the number of cycles. How many did it take?"
   ]
  },
  {
   "cell_type": "code",
   "execution_count": 15,
   "metadata": {},
   "outputs": [],
   "source": [
    "counter = 0"
   ]
  },
  {
   "cell_type": "code",
   "execution_count": 16,
   "metadata": {},
   "outputs": [],
   "source": [
    "def pagerank(out_degree, in_degree, rank, p):\n",
    "    global counter\n",
    "    node = set(flatten(content))\n",
    "    n = len(node)\n",
    "    \n",
    "    check = rank.copy()\n",
    "    counter += 1\n",
    "    \n",
    "    out_amount = {}\n",
    "    for key, value in out_degree.items():\n",
    "        out_amount[key] = len(value)\n",
    "       \n",
    "    in_amount = {}\n",
    "    for k, value in in_degree.items():\n",
    "        for each in value:\n",
    "            in_amount.setdefault(k, []).append(float(str(rank.get(each)))/int(out_amount.get(each)))\n",
    "    in_amount = {k: sum(map(float, (i for i in v))) for k, v in in_amount.items()}\n",
    "    for each in rank.keys():\n",
    "        if each in in_amount.keys():\n",
    "            rank[each] = p/n + (1-p) * (in_amount[each])\n",
    "        else:\n",
    "            rank[each] = p/n + (1-p) * 0\n",
    "    for key in rank.keys():\n",
    "        rank[key] = round(rank[key],2)      \n",
    "    \n",
    "    if check != rank:\n",
    "        print('rank is',rank)\n",
    "        print('check is',check)\n",
    "        print('number of cycle:', counter)\n",
    "        rank = pagerank(out_degree, in_degree, rank, p)\n",
    "    else:\n",
    "        return rank, counter\n",
    "    "
   ]
  },
  {
   "cell_type": "code",
   "execution_count": 11,
   "metadata": {
    "scrolled": false
   },
   "outputs": [
    {
     "name": "stdout",
     "output_type": "stream",
     "text": [
      "rank is {'2': 0.15, '3': 0.55, '1': 0.25, '4': 0.05}\n",
      "check is {'2': 0.25, '3': 0.25, '1': 0.25, '4': 0.25}\n",
      "number of cycle: 1\n",
      "rank is {'2': 0.15, '3': 0.31, '1': 0.49, '4': 0.05}\n",
      "check is {'2': 0.15, '3': 0.55, '1': 0.25, '4': 0.05}\n",
      "number of cycle: 2\n",
      "rank is {'2': 0.25, '3': 0.41, '1': 0.3, '4': 0.05}\n",
      "check is {'2': 0.15, '3': 0.31, '1': 0.49, '4': 0.05}\n",
      "number of cycle: 3\n",
      "rank is {'2': 0.17, '3': 0.41, '1': 0.38, '4': 0.05}\n",
      "check is {'2': 0.25, '3': 0.41, '1': 0.3, '4': 0.05}\n",
      "number of cycle: 4\n",
      "rank is {'2': 0.2, '3': 0.38, '1': 0.38, '4': 0.05}\n",
      "check is {'2': 0.17, '3': 0.41, '1': 0.38, '4': 0.05}\n",
      "number of cycle: 5\n",
      "rank is {'2': 0.2, '3': 0.4, '1': 0.35, '4': 0.05}\n",
      "check is {'2': 0.2, '3': 0.38, '1': 0.38, '4': 0.05}\n",
      "number of cycle: 6\n",
      "rank is {'2': 0.19, '3': 0.39, '1': 0.37, '4': 0.05}\n",
      "check is {'2': 0.2, '3': 0.4, '1': 0.35, '4': 0.05}\n",
      "number of cycle: 7\n",
      "rank is {'2': 0.2, '3': 0.39, '1': 0.36, '4': 0.05}\n",
      "check is {'2': 0.19, '3': 0.39, '1': 0.37, '4': 0.05}\n",
      "number of cycle: 8\n",
      "rank is {'2': 0.19, '3': 0.39, '1': 0.36, '4': 0.05}\n",
      "check is {'2': 0.2, '3': 0.39, '1': 0.36, '4': 0.05}\n",
      "number of cycle: 9\n"
     ]
    }
   ],
   "source": [
    "rank = pagerank(out_degree, in_degree, rank, .2)\n",
    "rank"
   ]
  },
  {
   "cell_type": "markdown",
   "metadata": {},
   "source": [
    "\n",
    "\n",
    "d) Adjust the value of p to 0.05, and run again. Does the number of cycles change?"
   ]
  },
  {
   "cell_type": "code",
   "execution_count": 17,
   "metadata": {
    "scrolled": true
   },
   "outputs": [
    {
     "name": "stdout",
     "output_type": "stream",
     "text": [
      "rank is {'2': 0.13, '3': 0.61, '1': 0.25, '4': 0.01}\n",
      "check is {'2': 0.25, '3': 0.25, '1': 0.25, '4': 0.25}\n",
      "number of cycle: 1\n",
      "rank is {'2': 0.13, '3': 0.26, '1': 0.59, '4': 0.01}\n",
      "check is {'2': 0.13, '3': 0.61, '1': 0.25, '4': 0.01}\n",
      "number of cycle: 2\n",
      "rank is {'2': 0.29, '3': 0.43, '1': 0.26, '4': 0.01}\n",
      "check is {'2': 0.13, '3': 0.26, '1': 0.59, '4': 0.01}\n",
      "number of cycle: 3\n",
      "rank is {'2': 0.14, '3': 0.42, '1': 0.42, '4': 0.01}\n",
      "check is {'2': 0.29, '3': 0.43, '1': 0.26, '4': 0.01}\n",
      "number of cycle: 4\n",
      "rank is {'2': 0.21, '3': 0.35, '1': 0.41, '4': 0.01}\n",
      "check is {'2': 0.14, '3': 0.42, '1': 0.42, '4': 0.01}\n",
      "number of cycle: 5\n",
      "rank is {'2': 0.21, '3': 0.42, '1': 0.34, '4': 0.01}\n",
      "check is {'2': 0.21, '3': 0.35, '1': 0.41, '4': 0.01}\n",
      "number of cycle: 6\n",
      "rank is {'2': 0.17, '3': 0.38, '1': 0.41, '4': 0.01}\n",
      "check is {'2': 0.21, '3': 0.42, '1': 0.34, '4': 0.01}\n",
      "number of cycle: 7\n",
      "rank is {'2': 0.21, '3': 0.38, '1': 0.37, '4': 0.01}\n",
      "check is {'2': 0.17, '3': 0.38, '1': 0.41, '4': 0.01}\n",
      "number of cycle: 8\n",
      "rank is {'2': 0.19, '3': 0.4, '1': 0.37, '4': 0.01}\n",
      "check is {'2': 0.21, '3': 0.38, '1': 0.37, '4': 0.01}\n",
      "number of cycle: 9\n",
      "rank is {'2': 0.19, '3': 0.38, '1': 0.39, '4': 0.01}\n",
      "check is {'2': 0.19, '3': 0.4, '1': 0.37, '4': 0.01}\n",
      "number of cycle: 10\n",
      "rank is {'2': 0.2, '3': 0.39, '1': 0.37, '4': 0.01}\n",
      "check is {'2': 0.19, '3': 0.38, '1': 0.39, '4': 0.01}\n",
      "number of cycle: 11\n",
      "rank is {'2': 0.19, '3': 0.39, '1': 0.38, '4': 0.01}\n",
      "check is {'2': 0.2, '3': 0.39, '1': 0.37, '4': 0.01}\n",
      "number of cycle: 12\n",
      "rank is {'2': 0.19, '3': 0.38, '1': 0.38, '4': 0.01}\n",
      "check is {'2': 0.19, '3': 0.39, '1': 0.38, '4': 0.01}\n",
      "number of cycle: 13\n",
      "rank is {'2': 0.19, '3': 0.38, '1': 0.37, '4': 0.01}\n",
      "check is {'2': 0.19, '3': 0.38, '1': 0.38, '4': 0.01}\n",
      "number of cycle: 14\n"
     ]
    }
   ],
   "source": [
    "second_rank = pagerank(out_degree, in_degree, rank, .05)\n",
    "second_rank"
   ]
  },
  {
   "cell_type": "code",
   "execution_count": null,
   "metadata": {},
   "outputs": [],
   "source": []
  }
 ],
 "metadata": {
  "kernelspec": {
   "display_name": "Python 3",
   "language": "python",
   "name": "python3"
  },
  "language_info": {
   "codemirror_mode": {
    "name": "ipython",
    "version": 3
   },
   "file_extension": ".py",
   "mimetype": "text/x-python",
   "name": "python",
   "nbconvert_exporter": "python",
   "pygments_lexer": "ipython3",
   "version": "3.7.1"
  }
 },
 "nbformat": 4,
 "nbformat_minor": 4
}
