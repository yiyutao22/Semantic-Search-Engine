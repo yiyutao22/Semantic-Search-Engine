{
 "cells": [
  {
   "cell_type": "markdown",
   "metadata": {},
   "source": [
    "1) Read in the text file MobyDick.txt as a single string.\n"
   ]
  },
  {
   "cell_type": "code",
   "execution_count": 38,
   "metadata": {},
   "outputs": [],
   "source": [
    "with open ('MobyDick.txt','r') as file:\n",
    "    mobydick = file.read()"
   ]
  },
  {
   "cell_type": "markdown",
   "metadata": {},
   "source": [
    "2) Let's find out how much space the string takes. Import sys and use the function getsizeof(), with the string as the argument. The output will be in bytes; to convert to megabytes, divide the output of the getsizeof() function by 1,000,000."
   ]
  },
  {
   "cell_type": "code",
   "execution_count": 39,
   "metadata": {},
   "outputs": [],
   "source": [
    "import sys"
   ]
  },
  {
   "cell_type": "code",
   "execution_count": 3,
   "metadata": {},
   "outputs": [
    {
     "data": {
      "text/plain": [
       "2476562"
      ]
     },
     "execution_count": 3,
     "metadata": {},
     "output_type": "execute_result"
    }
   ],
   "source": [
    "# space in bytes\n",
    "size = sys.getsizeof(mobydick)\n",
    "size"
   ]
  },
  {
   "cell_type": "code",
   "execution_count": 4,
   "metadata": {},
   "outputs": [
    {
     "data": {
      "text/plain": [
       "2.476562"
      ]
     },
     "execution_count": 4,
     "metadata": {},
     "output_type": "execute_result"
    }
   ],
   "source": [
    "# space in megabytes\n",
    "mega_size = size/1000000\n",
    "mega_size"
   ]
  },
  {
   "cell_type": "markdown",
   "metadata": {},
   "source": [
    "3) Now read in the same file as a list of strings (one string per line), and get its size. Which is larger?"
   ]
  },
  {
   "cell_type": "code",
   "execution_count": 5,
   "metadata": {},
   "outputs": [
    {
     "data": {
      "text/plain": [
       "190008"
      ]
     },
     "execution_count": 5,
     "metadata": {},
     "output_type": "execute_result"
    }
   ],
   "source": [
    "with open ('MobyDick.txt','r') as file:\n",
    "    mobydick_line = file.readlines()\n",
    "size_line = sys.getsizeof(mobydick_line)\n",
    "size_line\n",
    "# size of list is smaller than size of string."
   ]
  },
  {
   "cell_type": "markdown",
   "metadata": {},
   "source": [
    "4) Now delete the list."
   ]
  },
  {
   "cell_type": "code",
   "execution_count": 6,
   "metadata": {},
   "outputs": [],
   "source": [
    "del mobydick_line"
   ]
  },
  {
   "cell_type": "markdown",
   "metadata": {},
   "source": [
    "5) Convert all characters in the single string to lowercase. Next, convert the single string to a list of words. Remember that there is a string method that will do this; use the space character as the delimiter. NOTE: there will likely be some strings that are not technically words -- don't worry about excluding these for now. How many elements are in the resulting list?"
   ]
  },
  {
   "cell_type": "code",
   "execution_count": 7,
   "metadata": {},
   "outputs": [],
   "source": [
    "mobydick = mobydick.lower()"
   ]
  },
  {
   "cell_type": "code",
   "execution_count": 8,
   "metadata": {},
   "outputs": [
    {
     "data": {
      "text/plain": [
       "1585784"
      ]
     },
     "execution_count": 8,
     "metadata": {},
     "output_type": "execute_result"
    }
   ],
   "source": [
    "mobydick_li = mobydick.split(' ')\n",
    "sys.getsizeof(mobydick_li)"
   ]
  },
  {
   "cell_type": "markdown",
   "metadata": {},
   "source": [
    "6) Convert the list to a dictionary, with unique elements as keys and counts as values. Try doing this with a counter; if you're not clear what that is, check the slide deck that accompanies this assignment.  What are the 10 most common words?"
   ]
  },
  {
   "cell_type": "code",
   "execution_count": 9,
   "metadata": {},
   "outputs": [],
   "source": [
    "from collections import Counter"
   ]
  },
  {
   "cell_type": "code",
   "execution_count": 10,
   "metadata": {},
   "outputs": [
    {
     "name": "stdout",
     "output_type": "stream",
     "text": [
      "{'the': 12264, 'of': 5907, 'and': 5370, 'to': 4030, 'a': 4010, 'in': 3623, 'that': 2381, 'his': 2099, 'it': 1540, 'as': 1510}\n"
     ]
    }
   ],
   "source": [
    "mobydick_count = Counter(mobydick_li)\n",
    "print(dict(mobydick_count.most_common(10)))"
   ]
  },
  {
   "cell_type": "markdown",
   "metadata": {},
   "source": [
    "7) Take the code you've written so far that imports a file as a single string, changes all characters to lowercase, and converts to a dictionary of unique terms and term counts, and bundle it into a function. The function should take a filename as argument, and return the dictionary as output."
   ]
  },
  {
   "cell_type": "code",
   "execution_count": 20,
   "metadata": {},
   "outputs": [
    {
     "data": {
      "text/plain": [
       "{'the': 12264,\n",
       " 'of': 5907,\n",
       " 'and': 5370,\n",
       " 'to': 4030,\n",
       " 'a': 4010,\n",
       " 'in': 3623,\n",
       " 'that': 2381,\n",
       " 'his': 2099,\n",
       " 'it': 1540,\n",
       " 'as': 1510}"
      ]
     },
     "execution_count": 20,
     "metadata": {},
     "output_type": "execute_result"
    }
   ],
   "source": [
    "def words_count(file_name):\n",
    "    with open (file_name,'r') as file:\n",
    "        content = file.read()\n",
    "    content = content.lower()\n",
    "    content = content.split(' ')\n",
    "    #print(Counter(content).most_common(10))\n",
    "    file_dict = dict(Counter(content).most_common(10))\n",
    "    return file_dict\n",
    "words_count('MobyDick.txt')"
   ]
  },
  {
   "cell_type": "markdown",
   "metadata": {},
   "source": [
    "8) The ten most common words are also quite common across the English language. Add logic to your function that returns the 10 most common words that are not in the file stopwords.txt. Then, use the profile tool to find out how long the function takes to run for the MobyDick.txt file."
   ]
  },
  {
   "cell_type": "code",
   "execution_count": 26,
   "metadata": {},
   "outputs": [],
   "source": [
    "def words_count(file_name):\n",
    "    with open (file_name,'r') as md_file:\n",
    "        content = md_file.read()\n",
    "    content = content.lower()\n",
    "    content = content.split(' ')\n",
    "    #print(Counter(content).most_common(10))\n",
    "    file_dict = dict(Counter(content).most_common(10))\n",
    "    with open ('stopwords.txt','r') as sw_file:\n",
    "        stopwords = [x.strip() for x in sw_file.readlines()]\n",
    "    for each in file_dict.keys():\n",
    "        if each not in stopwords:\n",
    "            print(each)\n",
    "words_count('MobyDick.txt')\n",
    "# all ten most common words in Mody Dick file are included in the stopwords file"
   ]
  },
  {
   "cell_type": "code",
   "execution_count": 33,
   "metadata": {},
   "outputs": [
    {
     "name": "stdout",
     "output_type": "stream",
     "text": [
      "words_count() function takes 0.08349895477294922 seconds\n"
     ]
    }
   ],
   "source": [
    "import time\n",
    "start = time.time()\n",
    "words_count('MobyDick.txt')\n",
    "end = time.time()\n",
    "print(\"words_count() function takes\", end-start, \"seconds\") "
   ]
  },
  {
   "cell_type": "code",
   "execution_count": 37,
   "metadata": {},
   "outputs": [
    {
     "name": "stdout",
     "output_type": "stream",
     "text": [
      "         217 function calls in 0.126 seconds\n",
      "\n",
      "   Ordered by: standard name\n",
      "\n",
      "   ncalls  tottime  percall  cumtime  percall filename:lineno(function)\n",
      "        1    0.000    0.000    0.000    0.000 :0(_abc_instancecheck)\n",
      "        1    0.047    0.047    0.047    0.047 :0(_count_elements)\n",
      "        1    0.000    0.000    0.126    0.126 :0(exec)\n",
      "        1    0.000    0.000    0.000    0.000 :0(heapify)\n",
      "       20    0.000    0.000    0.000    0.000 :0(heapreplace)\n",
      "        1    0.000    0.000    0.000    0.000 :0(isinstance)\n",
      "        1    0.000    0.000    0.000    0.000 :0(items)\n",
      "        1    0.000    0.000    0.000    0.000 :0(iter)\n",
      "        1    0.000    0.000    0.000    0.000 :0(keys)\n",
      "        3    0.000    0.000    0.000    0.000 :0(len)\n",
      "        1    0.014    0.014    0.014    0.014 :0(lower)\n",
      "        2    0.000    0.000    0.000    0.000 :0(nl_langinfo)\n",
      "        2    0.001    0.001    0.001    0.001 :0(open)\n",
      "        1    0.008    0.008    0.010    0.010 :0(read)\n",
      "        1    0.000    0.000    0.000    0.000 :0(readlines)\n",
      "        1    0.000    0.000    0.000    0.000 :0(setprofile)\n",
      "        1    0.000    0.000    0.000    0.000 :0(sort)\n",
      "        1    0.030    0.030    0.030    0.030 :0(split)\n",
      "      153    0.000    0.000    0.000    0.000 :0(strip)\n",
      "        3    0.002    0.001    0.002    0.001 :0(utf_8_decode)\n",
      "        1    0.002    0.002    0.119    0.119 <ipython-input-26-464d15e1c408>:1(words_count)\n",
      "        1    0.000    0.000    0.001    0.001 <ipython-input-26-464d15e1c408>:9(<listcomp>)\n",
      "        1    0.007    0.007    0.126    0.126 <string>:1(<module>)\n",
      "        1    0.000    0.000    0.047    0.047 __init__.py:548(__init__)\n",
      "        1    0.000    0.000    0.014    0.014 __init__.py:573(most_common)\n",
      "        1    0.000    0.000    0.047    0.047 __init__.py:617(update)\n",
      "        2    0.000    0.000    0.000    0.000 _bootlocale.py:33(getpreferredencoding)\n",
      "        1    0.000    0.000    0.000    0.000 abc.py:137(__instancecheck__)\n",
      "        2    0.000    0.000    0.000    0.000 codecs.py:260(__init__)\n",
      "        2    0.000    0.000    0.000    0.000 codecs.py:309(__init__)\n",
      "        3    0.000    0.000    0.002    0.001 codecs.py:319(decode)\n",
      "        1    0.014    0.014    0.014    0.014 heapq.py:524(nlargest)\n",
      "        1    0.000    0.000    0.000    0.000 heapq.py:569(<listcomp>)\n",
      "        1    0.000    0.000    0.000    0.000 heapq.py:583(<listcomp>)\n",
      "        0    0.000             0.000          profile:0(profiler)\n",
      "        1    0.000    0.000    0.126    0.126 profile:0(words_count('MobyDick.txt'))\n",
      "\n",
      "\n"
     ]
    }
   ],
   "source": [
    "import profile\n",
    "x = '''words_count('MobyDick.txt')'''\n",
    "profile.run(x)"
   ]
  },
  {
   "cell_type": "markdown",
   "metadata": {},
   "source": [
    "9) Adjust your function so that it can be run from the command line with the name of the file to be converted and counted given as a command-line argument."
   ]
  },
  {
   "cell_type": "code",
   "execution_count": null,
   "metadata": {},
   "outputs": [],
   "source": []
  }
 ],
 "metadata": {
  "kernelspec": {
   "display_name": "Python 3",
   "language": "python",
   "name": "python3"
  },
  "language_info": {
   "codemirror_mode": {
    "name": "ipython",
    "version": 3
   },
   "file_extension": ".py",
   "mimetype": "text/x-python",
   "name": "python",
   "nbconvert_exporter": "python",
   "pygments_lexer": "ipython3",
   "version": "3.7.1"
  }
 },
 "nbformat": 4,
 "nbformat_minor": 4
}
