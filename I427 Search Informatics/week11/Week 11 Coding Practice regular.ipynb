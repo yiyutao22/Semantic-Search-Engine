{
 "cells": [
  {
   "cell_type": "code",
   "execution_count": 55,
   "metadata": {},
   "outputs": [],
   "source": [
    "import sys, os\n",
    "import re\n",
    "import nltk\n",
    "from nltk.stem import PorterStemmer \n",
    "from collections import Counter\n",
    "from nltk.corpus import stopwords\n",
    "import math"
   ]
  },
  {
   "cell_type": "code",
   "execution_count": 56,
   "metadata": {},
   "outputs": [],
   "source": [
    "# read file and separate each summary\n",
    "with open ('movie_summaries_427lab.txt','r') as md_file:\n",
    "    content = md_file.readlines() \n",
    "    content = [line.strip().split('\\t') for line in content]"
   ]
  },
  {
   "cell_type": "code",
   "execution_count": 57,
   "metadata": {},
   "outputs": [],
   "source": [
    "# convert the list to the dictionary \n",
    "file_dict = {}\n",
    "for i in range(len(content)):\n",
    "    file_dict[content[i][0]] = content[i][1]"
   ]
  },
  {
   "cell_type": "code",
   "execution_count": 58,
   "metadata": {},
   "outputs": [],
   "source": [
    "# create the empty dictionary for term frequency \n",
    "value_dict = {}"
   ]
  },
  {
   "cell_type": "code",
   "execution_count": 61,
   "metadata": {},
   "outputs": [],
   "source": [
    "# process the text and store the tf data\n",
    "for key, value in file_dict.items():\n",
    "    value = re.sub('[^A-Za-z0-9]+', ' ', value)\n",
    "    value = nltk.word_tokenize(value.lower())\n",
    "    count = len(value)\n",
    "    ps = PorterStemmer() \n",
    "    value = [word for word in value if not word in stopwords.words()]\n",
    "    value = [ps.stem(word) for word in value]\n",
    "    words_f = dict(Counter(value))\n",
    "    for kk, v in words_f.items():\n",
    "        words_f[kk] = v/count\n",
    "    value_dict[key] = words_f"
   ]
  },
  {
   "cell_type": "code",
   "execution_count": 64,
   "metadata": {},
   "outputs": [
    {
     "data": {
      "text/plain": [
       "{'shlykov': 0.03571428571428571,\n",
       " 'hard': 0.03571428571428571,\n",
       " 'work': 0.03571428571428571,\n",
       " 'taxi': 0.03571428571428571,\n",
       " 'driver': 0.03571428571428571,\n",
       " 'lyosha': 0.03571428571428571,\n",
       " 'saxophonist': 0.03571428571428571,\n",
       " 'develop': 0.03571428571428571,\n",
       " 'bizarr': 0.03571428571428571,\n",
       " 'love': 0.03571428571428571,\n",
       " 'hate': 0.03571428571428571,\n",
       " 'relationship': 0.03571428571428571,\n",
       " 'despit': 0.03571428571428571,\n",
       " 'prejudic': 0.03571428571428571,\n",
       " 'realiz': 0.03571428571428571,\n",
       " 'differ': 0.03571428571428571}"
      ]
     },
     "execution_count": 64,
     "metadata": {},
     "output_type": "execute_result"
    }
   ],
   "source": [
    "# e.g.\n",
    "value_dict['23890098']"
   ]
  },
  {
   "cell_type": "code",
   "execution_count": 74,
   "metadata": {},
   "outputs": [],
   "source": [
    "# get all terms\n",
    "all_terms = []\n",
    "for subdict in value_dict.values():\n",
    "    full_lst = list(subdict.keys())\n",
    "    for each in full_lst:\n",
    "        all_terms.append(each)"
   ]
  },
  {
   "cell_type": "code",
   "execution_count": 96,
   "metadata": {},
   "outputs": [],
   "source": [
    "unique_terms = set(all_terms)\n",
    "unique_terms = sorted(unique_terms)"
   ]
  },
  {
   "cell_type": "code",
   "execution_count": 97,
   "metadata": {},
   "outputs": [
    {
     "data": {
      "text/plain": [
       "[('00', 1.0),\n",
       " ('000', 0.40369440861835026),\n",
       " ('000th', 1.0),\n",
       " ('00pm', 1.0),\n",
       " ('03', 1.0),\n",
       " ('07', 0.7686217868402407),\n",
       " ('08', 0.7686217868402407),\n",
       " ('09', 1.0),\n",
       " ('1', 0.48986165536421106),\n",
       " ('10', 0.43458798967609363),\n",
       " ('100', 0.5623818557528477),\n",
       " ('10000', 1.0),\n",
       " ('109', 1.0),\n",
       " ('10f', 1.0),\n",
       " ('10th', 1.0),\n",
       " ('11', 0.588591910067779),\n",
       " ('12', 0.48095855130519694),\n",
       " ('12740', 1.0),\n",
       " ('13', 0.7686217868402407),\n",
       " ('1353806', 1.0)]"
      ]
     },
     "execution_count": 97,
     "metadata": {},
     "output_type": "execute_result"
    }
   ],
   "source": [
    "# calculate idf for each unique term\n",
    "idf = dict(Counter(sorted(all_terms)))\n",
    "for key, value in idf.items():\n",
    "    #idf[key] = math.log(N/value)\n",
    "    idf[key] = 1/(1+math.log10(value))\n",
    "list(idf.items())[:20]"
   ]
  },
  {
   "cell_type": "code",
   "execution_count": 79,
   "metadata": {},
   "outputs": [
    {
     "data": {
      "text/plain": [
       "[(1, '23890098'),\n",
       " (2, '31186339'),\n",
       " (3, '20663735'),\n",
       " (4, '2231378'),\n",
       " (5, '595909'),\n",
       " (6, '5272176'),\n",
       " (7, '1952976'),\n",
       " (8, '24225279'),\n",
       " (9, '2462689'),\n",
       " (10, '20532852'),\n",
       " (11, '15401493'),\n",
       " (12, '18188932'),\n",
       " (13, '2940516'),\n",
       " (14, '1335380'),\n",
       " (15, '1480747'),\n",
       " (16, '24448645'),\n",
       " (17, '15072401'),\n",
       " (18, '4018288'),\n",
       " (19, '4596602'),\n",
       " (20, '15224586')]"
      ]
     },
     "execution_count": 79,
     "metadata": {},
     "output_type": "execute_result"
    }
   ],
   "source": [
    "#create a mapping dict for reference\n",
    "mapping_dict = {}\n",
    "for key in file_dict.keys():\n",
    "        if key not in mapping_dict.values():\n",
    "            if not mapping_dict.keys():\n",
    "                mapping_dict[1] = key\n",
    "            else:\n",
    "                mapping_dict[int(max(mapping_dict.keys())+1)] = key\n",
    "                \n",
    "list(mapping_dict.items())[:20]"
   ]
  },
  {
   "cell_type": "code",
   "execution_count": 102,
   "metadata": {},
   "outputs": [
    {
     "ename": "KeyboardInterrupt",
     "evalue": "",
     "output_type": "error",
     "traceback": [
      "\u001b[0;31m---------------------------------------------------------------------------\u001b[0m",
      "\u001b[0;31mKeyboardInterrupt\u001b[0m                         Traceback (most recent call last)",
      "\u001b[0;32m<ipython-input-102-be2dc2f6804c>\u001b[0m in \u001b[0;36m<module>\u001b[0;34m\u001b[0m\n\u001b[1;32m     12\u001b[0m \u001b[0;34m\u001b[0m\u001b[0m\n\u001b[1;32m     13\u001b[0m     \u001b[0;32mreturn\u001b[0m \u001b[0mtf_idf\u001b[0m\u001b[0;34m\u001b[0m\u001b[0;34m\u001b[0m\u001b[0m\n\u001b[0;32m---> 14\u001b[0;31m \u001b[0mtf_idf\u001b[0m \u001b[0;34m=\u001b[0m \u001b[0mscore\u001b[0m\u001b[0;34m(\u001b[0m\u001b[0mvalue_dict\u001b[0m\u001b[0;34m)\u001b[0m\u001b[0;34m\u001b[0m\u001b[0;34m\u001b[0m\u001b[0m\n\u001b[0m",
      "\u001b[0;32m<ipython-input-102-be2dc2f6804c>\u001b[0m in \u001b[0;36mscore\u001b[0;34m(value_dict)\u001b[0m\n\u001b[1;32m      9\u001b[0m                     \u001b[0mtf_idf\u001b[0m\u001b[0;34m.\u001b[0m\u001b[0msetdefault\u001b[0m\u001b[0;34m(\u001b[0m\u001b[0mv\u001b[0m\u001b[0;34m,\u001b[0m \u001b[0;34m{\u001b[0m\u001b[0;34m}\u001b[0m\u001b[0;34m)\u001b[0m\u001b[0;34m[\u001b[0m\u001b[0mterm\u001b[0m\u001b[0;34m]\u001b[0m \u001b[0;34m=\u001b[0m \u001b[0midf\u001b[0m\u001b[0;34m[\u001b[0m\u001b[0mterm\u001b[0m\u001b[0;34m]\u001b[0m\u001b[0;34m*\u001b[0m\u001b[0mvalue_dict\u001b[0m\u001b[0;34m[\u001b[0m\u001b[0mv\u001b[0m\u001b[0;34m]\u001b[0m\u001b[0;34m[\u001b[0m\u001b[0mterm\u001b[0m\u001b[0;34m]\u001b[0m\u001b[0;34m\u001b[0m\u001b[0;34m\u001b[0m\u001b[0m\n\u001b[1;32m     10\u001b[0m                 \u001b[0;32melse\u001b[0m\u001b[0;34m:\u001b[0m\u001b[0;34m\u001b[0m\u001b[0;34m\u001b[0m\u001b[0m\n\u001b[0;32m---> 11\u001b[0;31m                     \u001b[0mtf_idf\u001b[0m\u001b[0;34m.\u001b[0m\u001b[0msetdefault\u001b[0m\u001b[0;34m(\u001b[0m\u001b[0mv\u001b[0m\u001b[0;34m,\u001b[0m \u001b[0;34m{\u001b[0m\u001b[0;34m}\u001b[0m\u001b[0;34m)\u001b[0m\u001b[0;34m[\u001b[0m\u001b[0mterm\u001b[0m\u001b[0;34m]\u001b[0m \u001b[0;34m=\u001b[0m \u001b[0;36m0\u001b[0m\u001b[0;34m\u001b[0m\u001b[0;34m\u001b[0m\u001b[0m\n\u001b[0m\u001b[1;32m     12\u001b[0m \u001b[0;34m\u001b[0m\u001b[0m\n\u001b[1;32m     13\u001b[0m     \u001b[0;32mreturn\u001b[0m \u001b[0mtf_idf\u001b[0m\u001b[0;34m\u001b[0m\u001b[0;34m\u001b[0m\u001b[0m\n",
      "\u001b[0;31mKeyboardInterrupt\u001b[0m: "
     ]
    }
   ],
   "source": [
    "#calculate tf-idf scores for each text\n",
    "tf_idf = {}\n",
    "def score(value_dict):\n",
    "    for term in unique_terms:\n",
    "        for v in mapping_dict.values():\n",
    "            for subdicts in value_dict[v]:\n",
    "                lst = list(value_dict[v].keys())\n",
    "                if term in lst:\n",
    "                    tf_idf.setdefault(v, {})[term] = idf[term]*value_dict[v][term]\n",
    "                else:\n",
    "                    tf_idf.setdefault(v, {})[term] = 0\n",
    "                \n",
    "    return tf_idf\n",
    "tf_idf = score(value_dict)"
   ]
  },
  {
   "cell_type": "code",
   "execution_count": null,
   "metadata": {},
   "outputs": [],
   "source": [
    "tf_idf['23890098']"
   ]
  },
  {
   "cell_type": "code",
   "execution_count": null,
   "metadata": {},
   "outputs": [],
   "source": []
  }
 ],
 "metadata": {
  "kernelspec": {
   "display_name": "Python 3",
   "language": "python",
   "name": "python3"
  },
  "language_info": {
   "codemirror_mode": {
    "name": "ipython",
    "version": 3
   },
   "file_extension": ".py",
   "mimetype": "text/x-python",
   "name": "python",
   "nbconvert_exporter": "python",
   "pygments_lexer": "ipython3",
   "version": "3.7.1"
  }
 },
 "nbformat": 4,
 "nbformat_minor": 4
}
