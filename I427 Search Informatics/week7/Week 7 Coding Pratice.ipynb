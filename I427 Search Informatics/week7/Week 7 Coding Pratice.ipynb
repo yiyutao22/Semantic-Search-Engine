{
 "cells": [
  {
   "cell_type": "markdown",
   "metadata": {},
   "source": [
    "Go to https://en.wikipedia.org/wiki/Main_Page, and find the link \"Random article\" in the left-hand column. Use this tool to generate a URL for a random page. This will be your seed; add it as the first value to a deque. Write code that:\n",
    "\n",
    "a) implements a queue (First In First Out) approach to your list of URLs, downloading the oldest entry first\n",
    "\n",
    "b) for each downloaded page, extracts all links to internal pages in /wiki/"
   ]
  },
  {
   "cell_type": "code",
   "execution_count": 1,
   "metadata": {},
   "outputs": [],
   "source": [
    "from collections import deque \n",
    "import urllib.request\n",
    "import re\n",
    "import os\n",
    "from nltk import flatten"
   ]
  },
  {
   "cell_type": "code",
   "execution_count": 2,
   "metadata": {},
   "outputs": [
    {
     "name": "stdout",
     "output_type": "stream",
     "text": [
      "['File:Fran_Mullins_Giants.jpg', 'Infielder', 'Oakland,_California', '1980_Major_League_Baseball_season', 'Chicago_White_Sox', '1986_Major_League_Baseball_season', 'Cleveland_Indians', 'Batting_average_(baseball)', 'Home_run', 'Run_batted_in', 'Chicago_White_Sox', '1980_Major_League_Baseball_season', 'San_Francisco_Giants', '1984_Major_League_Baseball_season', 'Cleveland_Indians', '1986_Major_League_Baseball_season', 'Professional_baseball', 'Major_League_Baseball', 'Infielder', 'Santa_Clara_University', 'College_baseball', 'Santa_Clara_Broncos', 'Chicago_White_Sox', 'Cincinnati_Reds', 'Steve_Christmas', 'San_Francisco_Giants', 'Rule_5_draft', '1984_Major_League_Baseball_season', 'Cleveland_Indians', 'File:Baseball_(crop).jpg', 'File:Flag_of_the_United_States.svg', 'File:Crystal_Clear_app_Login_Manager_2.png', 'Wikipedia:Stub', 'Template:US-baseball-infielder-stub', 'Template_talk:US-baseball-infielder-stub', 'Help:Category', 'Category:1957_births', 'Category:Living_people', 'Category:American_expatriate_baseball_players_in_Canada', 'Category:Baseball_players_from_California', 'Category:Chicago_White_Sox_players', 'Category:Cleveland_Indians_players', 'Category:Denver_Bears_players', 'Category:Edmonton_Trappers_players', 'Category:Glens_Falls_White_Sox_players', 'Category:Iowa_Oaks_players', 'Category:Knoxville_Sox_players', 'Category:Major_League_Baseball_infielders', 'Category:Maine_Guides_players', 'Category:Phoenix_Giants_players', 'Category:San_Francisco_Giants_players', 'Category:Santa_Clara_Broncos_baseball_players', 'Category:Sportspeople_from_Oakland,_California', 'Category:American_baseball_infielder_stubs', 'Category:Articles_with_short_description', 'Category:Short_description_matches_Wikidata', 'Category:All_stub_articles', 'Special:MyTalk', 'Special:MyContributions', 'Fran_Mullins', 'Talk:Fran_Mullins', 'Fran_Mullins', 'Main_Page', 'Main_Page', 'Wikipedia:Contents', 'Portal:Current_events', 'Special:Random', 'Wikipedia:About', 'Help:Contents', 'Help:Introduction', 'Wikipedia:Community_portal', 'Special:RecentChanges', 'Wikipedia:File_Upload_Wizard', 'Special:WhatLinksHere/Fran_Mullins', 'Special:RecentChangesLinked/Fran_Mullins', 'Wikipedia:File_Upload_Wizard', 'Special:SpecialPages', 'Wikipedia:About', 'Wikipedia:General_disclaimer']\n"
     ]
    }
   ],
   "source": [
    "def getlinks(seed):\n",
    "    web_page = urllib.request.urlopen(seed)\n",
    "    contents = web_page.read().decode(errors=\"replace\")\n",
    "    web_page.close()\n",
    "    queue = []\n",
    "    #use lookbehind and lookahead get wiki pages\n",
    "    queue.append(re.findall('(?<=href=\"/wiki/).+?(?=\")', contents, re.DOTALL))\n",
    "    #flatten the nested list\n",
    "    queue = flatten(queue)\n",
    "    return queue\n",
    "print(getlinks(\"https://en.wikipedia.org/wiki/Fran_Mullins\"))"
   ]
  },
  {
   "cell_type": "markdown",
   "metadata": {},
   "source": [
    "c) changes these links from relative links to full links (do this by adding the domain of the URL of the page from which you scraped the link -- for this exercise it's http://www.wikipedia.org);"
   ]
  },
  {
   "cell_type": "markdown",
   "metadata": {},
   "source": [
    "d) adds these links to the frontier/deque (remember, this is a queue, so consider to which side of the deque you'll add them to preserve FIFO order) -- and be sure not to allow duplicates.\n"
   ]
  },
  {
   "cell_type": "markdown",
   "metadata": {},
   "source": [
    "#### To keep with FIFO order, use popleft() function if we want to remove the links from a regular order queue\n",
    "#### Or use extendleft() function if we want to append new links when we have an empty queue"
   ]
  },
  {
   "cell_type": "code",
   "execution_count": 3,
   "metadata": {},
   "outputs": [
    {
     "name": "stdout",
     "output_type": "stream",
     "text": [
      "deque(['https://en.wikipedia.org/wiki/File:Fran_Mullins_Giants.jpg', 'https://en.wikipedia.org/wiki/Infielder', 'https://en.wikipedia.org/wiki/Oakland,_California', 'https://en.wikipedia.org/wiki/1980_Major_League_Baseball_season', 'https://en.wikipedia.org/wiki/Chicago_White_Sox', 'https://en.wikipedia.org/wiki/1986_Major_League_Baseball_season', 'https://en.wikipedia.org/wiki/Cleveland_Indians', 'https://en.wikipedia.org/wiki/Batting_average_(baseball)', 'https://en.wikipedia.org/wiki/Home_run', 'https://en.wikipedia.org/wiki/Run_batted_in', 'https://en.wikipedia.org/wiki/San_Francisco_Giants', 'https://en.wikipedia.org/wiki/1984_Major_League_Baseball_season', 'https://en.wikipedia.org/wiki/Professional_baseball', 'https://en.wikipedia.org/wiki/Major_League_Baseball', 'https://en.wikipedia.org/wiki/Santa_Clara_University', 'https://en.wikipedia.org/wiki/College_baseball', 'https://en.wikipedia.org/wiki/Santa_Clara_Broncos', 'https://en.wikipedia.org/wiki/Cincinnati_Reds', 'https://en.wikipedia.org/wiki/Steve_Christmas', 'https://en.wikipedia.org/wiki/Rule_5_draft', 'https://en.wikipedia.org/wiki/File:Baseball_(crop).jpg', 'https://en.wikipedia.org/wiki/File:Flag_of_the_United_States.svg', 'https://en.wikipedia.org/wiki/File:Crystal_Clear_app_Login_Manager_2.png', 'https://en.wikipedia.org/wiki/Wikipedia:Stub', 'https://en.wikipedia.org/wiki/Template:US-baseball-infielder-stub', 'https://en.wikipedia.org/wiki/Template_talk:US-baseball-infielder-stub', 'https://en.wikipedia.org/wiki/Help:Category', 'https://en.wikipedia.org/wiki/Category:1957_births', 'https://en.wikipedia.org/wiki/Category:Living_people', 'https://en.wikipedia.org/wiki/Category:American_expatriate_baseball_players_in_Canada', 'https://en.wikipedia.org/wiki/Category:Baseball_players_from_California', 'https://en.wikipedia.org/wiki/Category:Chicago_White_Sox_players', 'https://en.wikipedia.org/wiki/Category:Cleveland_Indians_players', 'https://en.wikipedia.org/wiki/Category:Denver_Bears_players', 'https://en.wikipedia.org/wiki/Category:Edmonton_Trappers_players', 'https://en.wikipedia.org/wiki/Category:Glens_Falls_White_Sox_players', 'https://en.wikipedia.org/wiki/Category:Iowa_Oaks_players', 'https://en.wikipedia.org/wiki/Category:Knoxville_Sox_players', 'https://en.wikipedia.org/wiki/Category:Major_League_Baseball_infielders', 'https://en.wikipedia.org/wiki/Category:Maine_Guides_players', 'https://en.wikipedia.org/wiki/Category:Phoenix_Giants_players', 'https://en.wikipedia.org/wiki/Category:San_Francisco_Giants_players', 'https://en.wikipedia.org/wiki/Category:Santa_Clara_Broncos_baseball_players', 'https://en.wikipedia.org/wiki/Category:Sportspeople_from_Oakland,_California', 'https://en.wikipedia.org/wiki/Category:American_baseball_infielder_stubs', 'https://en.wikipedia.org/wiki/Category:Articles_with_short_description', 'https://en.wikipedia.org/wiki/Category:Short_description_matches_Wikidata', 'https://en.wikipedia.org/wiki/Category:All_stub_articles', 'https://en.wikipedia.org/wiki/Special:MyTalk', 'https://en.wikipedia.org/wiki/Special:MyContributions', 'https://en.wikipedia.org/wiki/Fran_Mullins', 'https://en.wikipedia.org/wiki/Talk:Fran_Mullins', 'https://en.wikipedia.org/wiki/Main_Page', 'https://en.wikipedia.org/wiki/Wikipedia:Contents', 'https://en.wikipedia.org/wiki/Portal:Current_events', 'https://en.wikipedia.org/wiki/Special:Random', 'https://en.wikipedia.org/wiki/Wikipedia:About', 'https://en.wikipedia.org/wiki/Help:Contents', 'https://en.wikipedia.org/wiki/Help:Introduction', 'https://en.wikipedia.org/wiki/Wikipedia:Community_portal', 'https://en.wikipedia.org/wiki/Special:RecentChanges', 'https://en.wikipedia.org/wiki/Wikipedia:File_Upload_Wizard', 'https://en.wikipedia.org/wiki/Special:WhatLinksHere/Fran_Mullins', 'https://en.wikipedia.org/wiki/Special:RecentChangesLinked/Fran_Mullins', 'https://en.wikipedia.org/wiki/Special:SpecialPages', 'https://en.wikipedia.org/wiki/Wikipedia:General_disclaimer'])\n"
     ]
    }
   ],
   "source": [
    "def convert(seed):\n",
    "    queue = getlinks(seed)\n",
    "    #convert relative links to full links\n",
    "    queue = [\"https://en.wikipedia.org/wiki/\" + link for link in queue if \"https://en.wikipedia.org/wiki/\" not in link] \n",
    "    #remove the duplicates while perserving the order\n",
    "    seen = set()\n",
    "    queue = [x for x in queue if not (x in seen or seen.add(x))]\n",
    "    #change list to deque\n",
    "    queue = deque(queue)\n",
    "    return queue\n",
    "print(convert(\"https://en.wikipedia.org/wiki/Fran_Mullins\"))"
   ]
  },
  {
   "cell_type": "code",
   "execution_count": 4,
   "metadata": {},
   "outputs": [
    {
     "data": {
      "text/plain": [
       "'\\nfor each in queue:\\n    web_page = urllib.request.urlopen(each)\\n    contents = web_page.read().decode(errors=\"replace\")\\n    web_page.close()\\n    file_out = open(\"{}.html\".format(os.path.basename(each)), \"w\", encoding=\"utf-8\")\\n    file_out.write(contents)\\n    file_out.close()\\n'"
      ]
     },
     "execution_count": 4,
     "metadata": {},
     "output_type": "execute_result"
    }
   ],
   "source": [
    "#download html file\n",
    "'''\n",
    "for each in queue:\n",
    "    web_page = urllib.request.urlopen(each)\n",
    "    contents = web_page.read().decode(errors=\"replace\")\n",
    "    web_page.close()\n",
    "    file_out = open(\"{}.html\".format(os.path.basename(each)), \"w\", encoding=\"utf-8\")\n",
    "    file_out.write(contents)\n",
    "    file_out.close()\n",
    "'''"
   ]
  },
  {
   "cell_type": "code",
   "execution_count": null,
   "metadata": {},
   "outputs": [],
   "source": []
  }
 ],
 "metadata": {
  "kernelspec": {
   "display_name": "Python 3",
   "language": "python",
   "name": "python3"
  },
  "language_info": {
   "codemirror_mode": {
    "name": "ipython",
    "version": 3
   },
   "file_extension": ".py",
   "mimetype": "text/x-python",
   "name": "python",
   "nbconvert_exporter": "python",
   "pygments_lexer": "ipython3",
   "version": "3.7.1"
  }
 },
 "nbformat": 4,
 "nbformat_minor": 4
}
