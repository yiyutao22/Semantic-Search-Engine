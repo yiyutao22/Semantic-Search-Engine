{
 "cells": [
  {
   "cell_type": "markdown",
   "metadata": {},
   "source": [
    "# Web Crawler"
   ]
  },
  {
   "cell_type": "code",
   "execution_count": 96,
   "metadata": {},
   "outputs": [],
   "source": [
    "import urllib.request \n",
    "from bs4 import BeautifulSoup\n",
    "import wget\n",
    "import pandas as pd"
   ]
  },
  {
   "cell_type": "code",
   "execution_count": 100,
   "metadata": {},
   "outputs": [],
   "source": [
    "def web_crawler(url, maxpage, directory):\n",
    "    #identify myself using an appropriate User-Agent and From string\n",
    "    req = urllib.request.Request(url, headers={'User-Agent': 'IUB-I427-yiyutao'})\n",
    "    html_page = urllib.request.urlopen(req)\n",
    "    #parse the url with beautifulsoup\n",
    "    soup = BeautifulSoup(html_page, 'html.parser')\n",
    "    links = []\n",
    "    \n",
    "    #find all elements in source code within a tag and start with https\n",
    "    for link in soup.findAll('a', attrs={'href': re.compile(\"^https://\")}):\n",
    "        if len(links) < maxpage:\n",
    "            #get actual links\n",
    "            links.append(link.get('href'))\n",
    "    \n",
    "    for i in range(len(links)):\n",
    "        web_page = urllib.request.urlopen(links[i])\n",
    "        contents = web_page.read().decode(errors=\"replace\")\n",
    "        web_page.close()\n",
    "        #rename the html file with index number\n",
    "        #download the files to specific directory\n",
    "        out_path = directory + \"{}.html\".format(i)\n",
    "        file_out = open(out_path, \"w\", encoding=\"utf-8\")\n",
    "        file_out.write(contents)\n",
    "        file_out.close()\n",
    "    \n",
    "    #reference: https://stackoverflow.com/questions/47038101/save-data-as-a-dat-file\n",
    "    #convert the list to dataframe and download the dat file\n",
    "    output_df = pd.DataFrame(links, columns = ['url'])  \n",
    "    out_path2 = directory + \"index.dat\"\n",
    "    output_df.to_csv(out_path2)\n",
    "            \n",
    "    return links"
   ]
  },
  {
   "cell_type": "code",
   "execution_count": 101,
   "metadata": {},
   "outputs": [
    {
     "name": "stdout",
     "output_type": "stream",
     "text": [
      "['https://www.indiana.edu', 'https://luddy.indiana.edu/about/index.html', 'https://luddy.indiana.edu/about/vision-mission.html', 'https://luddy.indiana.edu/about/leadership.html', 'https://luddy.indiana.edu/about/diversity/index.html', 'https://luddy.indiana.edu/about/diversity/lodi.html', 'https://luddy.indiana.edu/about/diversity/d-i-task-force.html', 'https://luddy.indiana.edu/about/advisory-council.html', 'https://luddy.indiana.edu/about/facilities/index.html', 'https://luddy.indiana.edu/about/faculty-openings.html', 'https://luddy.indiana.edu/about/fred-luddy.html', 'https://luddy.indiana.edu/admissions/index.html', 'https://luddy.indiana.edu/admissions/apply/index.html', 'https://luddy.indiana.edu/admissions/apply/freshmen.html', 'https://luddy.indiana.edu/admissions/apply/transfer.html', 'https://luddy.indiana.edu/admissions/apply/returning.html', 'https://luddy.indiana.edu/admissions/apply/change-declare-major.html', 'https://luddy.indiana.edu/admissions/direct-admission/index.html', 'https://luddy.indiana.edu/admissions/direct-admission/direct-admit-scholarships.html', 'https://luddy.indiana.edu/admissions/plan-visit.html', 'https://luddy.indiana.edu/admissions/cost-fin-aid.html', 'https://luddy.indiana.edu/admissions/scholarships/index.html', 'https://luddy.indiana.edu/admissions/living-learning-center.html', 'https://luddy.indiana.edu/admissions/student-ambassadors.html', 'https://luddy.indiana.edu/academics/index.html', 'https://luddy.indiana.edu/academics/undergraduate-programs/index.html', 'https://luddy.indiana.edu/academics/grad-programs/index.html', 'https://luddy.indiana.edu/academics/grad-programs/doctoral.html', 'https://luddy.indiana.edu/academics/grad-programs/minors/index.html', 'https://luddy.indiana.edu/academics/grad-programs/masters.html', 'https://luddy.indiana.edu/academics/grad-programs/certificates.html', 'https://luddy.indiana.edu/academics/grad-programs/specialist.html', 'https://luddy.indiana.edu/academics/grad-programs/training-grants/index.html', 'https://luddy.indiana.edu/academics/grad-programs/graduate-forms/index.html', 'https://luddy.indiana.edu/academics/grad-programs/graduate-forms/graduation-application-form.html', 'https://luddy.indiana.edu/academics/departments/index.html', 'https://luddy.indiana.edu/academics/courses/index.html', 'https://luddy.indiana.edu/academics/advising.html', 'https://luddy.indiana.edu/academics/international.html', 'https://luddy.indiana.edu/academics/academic-opportunities.html', 'https://luddy.indiana.edu/academics/innovation-entrepreneurship/index.html', 'https://luddy.indiana.edu/academics/innovation-entrepreneurship/gt-idea.html', 'https://luddy.indiana.edu/student-life/index.html', 'https://luddy.indiana.edu/student-life/student-organizations.html', 'https://luddy.indiana.edu/student-life/pacesetters.html', 'https://luddy.indiana.edu/student-life/summer-camp.html', 'https://luddy.indiana.edu/student-life/student-recognition-celebration.html', 'https://luddy.indiana.edu/research/index.html', 'https://luddy.indiana.edu/research/faculty-directory.html', 'https://luddy.indiana.edu/research/centers/index.html']\n"
     ]
    }
   ],
   "source": [
    "#e.g.\n",
    "print(web_crawler('https://luddy.indiana.edu/', 50 , '/Users/mac/Downloads/'))"
   ]
  },
  {
   "cell_type": "code",
   "execution_count": 102,
   "metadata": {},
   "outputs": [
    {
     "name": "stdout",
     "output_type": "stream",
     "text": [
      ",url\n",
      "0,https://www.indiana.edu\n",
      "1,https://luddy.indiana.edu/about/index.html\n",
      "2,https://luddy.indiana.edu/about/vision-mission.html\n",
      "3,https://luddy.indiana.edu/about/leadership.html\n",
      "4,https://luddy.indiana.edu/about/diversity/index.html\n",
      "5,https://luddy.indiana.edu/about/diversity/lodi.html\n",
      "6,https://luddy.indiana.edu/about/diversity/d-i-task-force.html\n",
      "7,https://luddy.indiana.edu/about/advisory-council.html\n",
      "8,https://luddy.indiana.edu/about/facilities/index.html\n",
      "9,https://luddy.indiana.edu/about/faculty-openings.html\n",
      "10,https://luddy.indiana.edu/about/fred-luddy.html\n",
      "11,https://luddy.indiana.edu/admissions/index.html\n",
      "12,https://luddy.indiana.edu/admissions/apply/index.html\n",
      "13,https://luddy.indiana.edu/admissions/apply/freshmen.html\n",
      "14,https://luddy.indiana.edu/admissions/apply/transfer.html\n",
      "15,https://luddy.indiana.edu/admissions/apply/returning.html\n",
      "16,https://luddy.indiana.edu/admissions/apply/change-declare-major.html\n",
      "17,https://luddy.indiana.edu/admissions/direct-admission/index.html\n",
      "18,https://luddy.indiana.edu/admissions/direct-admission/direct-admit-scholarships.html\n",
      "19,https://luddy.indiana.edu/admissions/plan-visit.html\n",
      "20,https://luddy.indiana.edu/admissions/cost-fin-aid.html\n",
      "21,https://luddy.indiana.edu/admissions/scholarships/index.html\n",
      "22,https://luddy.indiana.edu/admissions/living-learning-center.html\n",
      "23,https://luddy.indiana.edu/admissions/student-ambassadors.html\n",
      "24,https://luddy.indiana.edu/academics/index.html\n",
      "25,https://luddy.indiana.edu/academics/undergraduate-programs/index.html\n",
      "26,https://luddy.indiana.edu/academics/grad-programs/index.html\n",
      "27,https://luddy.indiana.edu/academics/grad-programs/doctoral.html\n",
      "28,https://luddy.indiana.edu/academics/grad-programs/minors/index.html\n",
      "29,https://luddy.indiana.edu/academics/grad-programs/masters.html\n",
      "30,https://luddy.indiana.edu/academics/grad-programs/certificates.html\n",
      "31,https://luddy.indiana.edu/academics/grad-programs/specialist.html\n",
      "32,https://luddy.indiana.edu/academics/grad-programs/training-grants/index.html\n",
      "33,https://luddy.indiana.edu/academics/grad-programs/graduate-forms/index.html\n",
      "34,https://luddy.indiana.edu/academics/grad-programs/graduate-forms/graduation-application-form.html\n",
      "35,https://luddy.indiana.edu/academics/departments/index.html\n",
      "36,https://luddy.indiana.edu/academics/courses/index.html\n",
      "37,https://luddy.indiana.edu/academics/advising.html\n",
      "38,https://luddy.indiana.edu/academics/international.html\n",
      "39,https://luddy.indiana.edu/academics/academic-opportunities.html\n",
      "40,https://luddy.indiana.edu/academics/innovation-entrepreneurship/index.html\n",
      "41,https://luddy.indiana.edu/academics/innovation-entrepreneurship/gt-idea.html\n",
      "42,https://luddy.indiana.edu/student-life/index.html\n",
      "43,https://luddy.indiana.edu/student-life/student-organizations.html\n",
      "44,https://luddy.indiana.edu/student-life/pacesetters.html\n",
      "45,https://luddy.indiana.edu/student-life/summer-camp.html\n",
      "46,https://luddy.indiana.edu/student-life/student-recognition-celebration.html\n",
      "47,https://luddy.indiana.edu/research/index.html\n",
      "48,https://luddy.indiana.edu/research/faculty-directory.html\n",
      "49,https://luddy.indiana.edu/research/centers/index.html\n",
      "\n"
     ]
    }
   ],
   "source": [
    "#e.g.\n",
    "with open('/Users/mac/Downloads/index.dat', 'r') as f:\n",
    "    text = f.read()\n",
    "    print(text)"
   ]
  },
  {
   "cell_type": "code",
   "execution_count": null,
   "metadata": {},
   "outputs": [],
   "source": []
  }
 ],
 "metadata": {
  "kernelspec": {
   "display_name": "Python 3",
   "language": "python",
   "name": "python3"
  },
  "language_info": {
   "codemirror_mode": {
    "name": "ipython",
    "version": 3
   },
   "file_extension": ".py",
   "mimetype": "text/x-python",
   "name": "python",
   "nbconvert_exporter": "python",
   "pygments_lexer": "ipython3",
   "version": "3.7.1"
  }
 },
 "nbformat": 4,
 "nbformat_minor": 4
}
